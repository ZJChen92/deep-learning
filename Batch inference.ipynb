{
 "cells": [
  {
   "cell_type": "code",
   "execution_count": null,
   "id": "a0146753",
   "metadata": {},
   "outputs": [],
   "source": [
    "import os\n",
    "\n",
    "POSSIBLE_IMG = ['.jpg', '.jpeg', '.png', '.bmp']\n",
    "\n",
    "my_dir = r'F:\\Novel 3\\standardlize\\resample\\Deep learning\\train images'\n",
    "config_path = r'F:\\Novel 3\\standardlize\\resample\\Deep learning\\mobilenet_v3_small\\viz'\n",
    "samples = []\n",
    "for root, _, files in os.walk(my_dir):\n",
    "    samples.extend([os.path.join(root, f) for f in files if os.path.splitext(f)[-1] in POSSIBLE_IMG])\n",
    "print(len(samples))"
   ]
  },
  {
   "cell_type": "code",
   "execution_count": 2,
   "id": "2389f96c",
   "metadata": {},
   "outputs": [],
   "source": [
    "import json\n",
    "from onekey_algo.classification.eval_classification import init as clf_init\n",
    "from onekey_algo.classification.eval_classification import inference as clf_inference\n",
    "\n",
    "config_path = r'F:\\Novel 3\\standardlize\\resample\\Deep learning\\mobilenet_v3_small\\viz'\n",
    "model, transformer, labels, device = clf_init(config_path=config_path)\n",
    "results = clf_inference(samples, model, transformer, labels, device)\n",
    "# print(json.dumps(results, ensure_ascii=False, indent=True))"
   ]
  },
  {
   "cell_type": "code",
   "execution_count": 3,
   "id": "5911fe81",
   "metadata": {},
   "outputs": [],
   "source": [
    "import pandas as pd\n",
    "\n",
    "r = pd.DataFrame(results, columns=['fname', 'prob', 'label'])\n",
    "r.to_csv('Duke_predict_2.5D.csv', index=False)"
   ]
  }
 ],
 "metadata": {
  "kernelspec": {
   "display_name": "Python 3 (ipykernel)",
   "language": "python",
   "name": "python3"
  },
  "language_info": {
   "codemirror_mode": {
    "name": "ipython",
    "version": 3
   },
   "file_extension": ".py",
   "mimetype": "text/x-python",
   "name": "python",
   "nbconvert_exporter": "python",
   "pygments_lexer": "ipython3",
   "version": "3.7.12"
  }
 },
 "nbformat": 4,
 "nbformat_minor": 5
}
