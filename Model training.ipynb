{
 "cells": [
  {
   "cell_type": "code",
   "execution_count": null,
   "id": "7050436a",
   "metadata": {},
   "outputs": [],
   "source": [
    "import os\n",
    "from onekey_algo.classification.run_classification import main as clf_main\n",
    "from collections import namedtuple\n",
    "\n",
    "# setting params\n",
    "save_dir = r''\n",
    "train_f = os.path.join(save_dir, 'train.txt')\n",
    "val_f = os.path.join(save_dir, 'val.txt')\n",
    "labels_f = os.path.join(save_dir, 'labels.txt')\n",
    "data_pattern = os.path.join(save_dir, 'images')\n",
    "\n",
    "params = dict(train=train_f,\n",
    "              valid=val_f,\n",
    "              labels_file=labels_f,\n",
    "              data_pattern=data_pattern,\n",
    "              j=0,\n",
    "              max2use=None,\n",
    "              val_max2use=None,\n",
    "              batch_balance=True,\n",
    "              normalize_method='imagenet',\n",
    "              model_name='mobilenet_v3_small',\n",
    "              vit_settings = {'patch_size': 64, 'dim': 1024, 'depth': 6, 'heads': 16, 'mlp_dim': 2048},\n",
    "              gpus=[0],\n",
    "              batch_size=64,\n",
    "              epochs=150,\n",
    "              init_lr=0.01,\n",
    "              optimizer='adam',\n",
    "              retrain=None,\n",
    "              model_root='.',\n",
    "              add_date=False,\n",
    "              iters_start=0,\n",
    "              iters_verbose=1,\n",
    "              save_per_epoch=False,\n",
    "              pretrained=True)\n",
    "# training\n",
    "Args = namedtuple(\"Args\", params)\n",
    "clf_main(Args(**params))"
   ]
  }
 ],
 "metadata": {
  "kernelspec": {
   "display_name": "Python 3 (ipykernel)",
   "language": "python",
   "name": "python3"
  },
  "language_info": {
   "codemirror_mode": {
    "name": "ipython",
    "version": 3
   },
   "file_extension": ".py",
   "mimetype": "text/x-python",
   "name": "python",
   "nbconvert_exporter": "python",
   "pygments_lexer": "ipython3",
   "version": "3.7.12"
  }
 },
 "nbformat": 4,
 "nbformat_minor": 5
}
