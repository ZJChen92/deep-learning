{
 "cells": [
  {
   "cell_type": "markdown",
   "id": "e8b27860",
   "metadata": {},
   "source": [
    "# What\n",
    "分类任务，支持两种模式\n",
    "1. Folder模式，需要输入`train`, `valid`两个测试集对应的目录。`labels.txt`，需要训练的label，里面每个类别一行。\n",
    "2. List模式，需要输入`train`, `valid`两个测试集对应的训练文件，每行一个样本。`labels.txt`是可选参数，里面每个类别一行。`data_pattern`一个通用的目录，与train、val中的第一列进行拼接。"
   ]
  },
  {
   "cell_type": "code",
   "execution_count": null,
   "id": "58acb50f",
   "metadata": {},
   "outputs": [],
   "source": [
    "## 获得视频教程\n",
    "from onekey_algo.custom.Manager import onekey_show\n",
    "onekey_show('What概览')"
   ]
  },
  {
   "cell_type": "code",
   "execution_count": null,
   "id": "53f0a6f4",
   "metadata": {},
   "outputs": [],
   "source": [
    "## 获得视频教程\n",
    "from onekey_algo.custom.Manager import onekey_show\n",
    "onekey_show('labelme-what2d')"
   ]
  },
  {
   "cell_type": "markdown",
   "id": "b658a6a0",
   "metadata": {},
   "source": [
    "### Labelme数据标注\n",
    "\n",
    "这里我们以【皮肤黑色素瘤类型诊断】数据为例，启动labelme之前，需要先修改labelme的启动选项，或者在命令行启动labelme。\n",
    "\n",
    "#### 1、修改启动选项。\n",
    "\n",
    "1. 右键labelme，属性。\n",
    "2. 在 `目标(T)`选项中添加 `--flags`参数，记得中间用空格隔开。\n",
    "\n",
    "   ```shell\n",
    "   \"C:\\Program Files\\labelme\\labelme.exe\"\n",
    "   ```\n",
    "\n",
    "   修改之后，在 `flags`参数之后，添加需要分类的标签。尽量用英文标签，用 `英文`逗号分开所有的标签。（--flags前面2个减号）\n",
    "\n",
    "   ```shell\n",
    "   \"C:\\Program Files\\labelme\\labelme.exe\" --flags label1,label2,labeln\n",
    "   ```\n",
    "3. 确定退出，双击打开。\n",
    "\n",
    "#### 2、加载标注数据，开始标注\n",
    "\n",
    "![attachmentId-133](http://medai.icu/storage/attachments/2021/12/05/ohR48IdCEJgEp9CZBLVDWVorjmj9mPk11uQ0ZebE.png)"
   ]
  },
  {
   "cell_type": "code",
   "execution_count": null,
   "id": "c64a9bda",
   "metadata": {},
   "outputs": [],
   "source": [
    "## 获得视频教程\n",
    "from onekey_algo.custom.Manager import onekey_show\n",
    "onekey_show('What概览|数据转化')"
   ]
  },
  {
   "cell_type": "code",
   "execution_count": null,
   "id": "65dbc9fa",
   "metadata": {},
   "outputs": [],
   "source": [
    "import os\n",
    "os.environ['KMP_DUPLICATE_LIB_OK'] = 'True'\n",
    "\n",
    "from onekey_algo.scripts.core import clf_covert2rec\n",
    "\n",
    "input_dir = r'标注数据目录'\n",
    "save_dir = r'标注数据输出目录'\n",
    "partition = [0.8, 0.2]\n",
    "\n",
    "clf_covert2rec(input_dir, save_dir = save_dir, partition = partition)"
   ]
  },
  {
   "cell_type": "markdown",
   "id": "02dd7e75",
   "metadata": {},
   "source": [
    "### 支持的模型名称\n",
    "\n",
    "模型名称替换代码中的 `model_name`变量的值。\n",
    "\n",
    "| **模型系列** | **模型名称**                                                 |\n",
    "| ------------ | ------------------------------------------------------------ |\n",
    "| AlexNet      | alexnet                                                      |\n",
    "| VGG          | vgg11, vgg11_bn, vgg13, vgg13_bn, vgg16, vgg16_bn, vgg19_bn, vgg19 |\n",
    "| ResNet       | resnet18, resnet34, resnet50, resnet101, resnet152, resnext50_32x4d, resnext101_32x8d, wide_resnet50_2, wide_resnet101_2 |\n",
    "| DenseNet     | densenet121, densenet169, densenet201, densenet161           |\n",
    "| Inception    | googlenet, inception_v3                                      |\n",
    "| SqueezeNet   | squeezenet1_0, squeezenet1_1                                 |\n",
    "| ShuffleNetV2 | shufflenet_v2_x2_0, shufflenet_v2_x0_5, shufflenet_v2_x1_0, shufflenet_v2_x1_5 |\n",
    "| MobileNet    | mobilenet_v2, mobilenet_v3_large, mobilenet_v3_small         |\n",
    "| MNASNet      | mnasnet0_5, mnasnet0_75, mnasnet1_0, mnasnet1_3              |\n",
    "| ViT       | ViT, SimpleViT|\n",
    "\n",
    "![](http://medai.icu/storage/attachments/2023/10/10/RHd9eH5U67VsOP8vqyNyBD5nGYREejkAKx3Jw16X.)"
   ]
  },
  {
   "cell_type": "markdown",
   "id": "0e861016",
   "metadata": {},
   "source": [
    "### List模式\n",
    "\n",
    "在Onekey中List模式一般是采用labelme标注出来的结果，如果要使用自己的数据应用List模式，需要根据自己的实际情况对数据进行处理。\n",
    "\n",
    "* `train.txt`，训练数据列表，中间用\\t（Tab水平制表符）进行分割。\n",
    "* `val.txt`，验证数据列表，中间用\\t（Tab水平制表符）进行分割。\n",
    "* `labels.txt`，label的集合，表明训练数据多少标签。\n",
    "* `data_pattern`参数，所有数据存在的目录的公共前缀，如果`train.txt`,`val.txt`文件里面存放的是绝对路径，`data_pattern`设置为None即可。"
   ]
  },
  {
   "cell_type": "code",
   "execution_count": null,
   "id": "83513dd1",
   "metadata": {},
   "outputs": [],
   "source": [
    "## 获得视频教程\n",
    "from onekey_algo.custom.Manager import onekey_show\n",
    "onekey_show('What概览|List')"
   ]
  },
  {
   "cell_type": "code",
   "execution_count": null,
   "id": "7050436a",
   "metadata": {},
   "outputs": [],
   "source": [
    "import os\n",
    "from onekey_algo.classification.run_classification import main as clf_main\n",
    "from collections import namedtuple\n",
    "\n",
    "# 设置参数\n",
    "# save_dir = r''\n",
    "train_f = os.path.join(save_dir, 'train.txt')\n",
    "val_f = os.path.join(save_dir, 'val.txt')\n",
    "labels_f = os.path.join(save_dir, 'labels.txt')\n",
    "data_pattern = os.path.join(save_dir, 'images')\n",
    "\n",
    "params = dict(train=train_f,\n",
    "              valid=val_f,\n",
    "              labels_file=labels_f,\n",
    "              data_pattern=data_pattern,\n",
    "              j=0,\n",
    "              max2use=None,\n",
    "              val_max2use=None,\n",
    "              batch_balance=True,\n",
    "              normalize_method='imagenet',\n",
    "              model_name='mobilenet_v3_small',\n",
    "              vit_settings = {'patch_size': 64, 'dim': 1024, 'depth': 6, 'heads': 16, 'mlp_dim': 2048},\n",
    "              gpus=[0],\n",
    "              batch_size=64,\n",
    "              epochs=150,\n",
    "              init_lr=0.01,\n",
    "              optimizer='adam',\n",
    "              retrain=None,\n",
    "              model_root='.',\n",
    "              add_date=False,\n",
    "              iters_start=0,\n",
    "              iters_verbose=1,\n",
    "              save_per_epoch=False,\n",
    "              pretrained=True)\n",
    "# 训练模型\n",
    "Args = namedtuple(\"Args\", params)\n",
    "clf_main(Args(**params))"
   ]
  },
  {
   "cell_type": "markdown",
   "id": "dfbb2e69",
   "metadata": {},
   "source": [
    "### Folder模式\n",
    "\n",
    "在Onekey中Folder模式一般是采用手动拖拽标注出来的结果。\n",
    "\n",
    "* `train_dir`，训练数据存放的文件夹。\n",
    "* `val_dir`，验证数据存放的文件夹。\n",
    "* `labels_file`，label的集合，表明训练数据多少标签，\n",
    "    > 注意：在train_dir和val_dir下面必须存在相应数据量的子文件夹。"
   ]
  },
  {
   "cell_type": "code",
   "execution_count": null,
   "id": "27d4041a",
   "metadata": {},
   "outputs": [],
   "source": [
    "## 获得视频教程\n",
    "from onekey_algo.custom.Manager import onekey_show\n",
    "onekey_show('What概览|Folder')"
   ]
  },
  {
   "cell_type": "code",
   "execution_count": null,
   "id": "e23e47b6",
   "metadata": {},
   "outputs": [],
   "source": [
    "import os\n",
    "from onekey_algo.classification.run_classification import main as clf_main\n",
    "from collections import namedtuple\n",
    "\n",
    "# 设置参数\n",
    "root_dir = r'自己数据的目录'\n",
    "\n",
    "train_dir = os.path.join(root_dir, 'train')\n",
    "val_dir = os.path.join(root_dir, 'val')\n",
    "labels_file = os.path.join(root_dir, 'labels.txt')\n",
    "params = dict(train=train_dir,\n",
    "              valid=val_dir,\n",
    "              labels_file=labels_file,\n",
    "              data_pattern=None,\n",
    "              j=0,\n",
    "              max2use=None,\n",
    "              val_max2use=None,\n",
    "              batch_balance=False,\n",
    "              normalize_method='imagenet',\n",
    "              model_name='resnet50',\n",
    "              gpus=[0],\n",
    "              batch_size=8,\n",
    "              epochs=3,\n",
    "              init_lr=0.1,\n",
    "              optimizer='sgd',\n",
    "              retrain=None,\n",
    "              model_root='.',\n",
    "              add_date=False,\n",
    "              iters_start=0,\n",
    "              iters_verbose=1,\n",
    "              save_per_epoch=False,\n",
    "              pretrained=True)\n",
    "# 训练模型\n",
    "Args = namedtuple(\"Args\", params)\n",
    "clf_main(Args(**params))"
   ]
  },
  {
   "cell_type": "code",
   "execution_count": null,
   "id": "ce1f8dc1",
   "metadata": {},
   "outputs": [],
   "source": []
  }
 ],
 "metadata": {
  "kernelspec": {
   "display_name": "Python 3 (ipykernel)",
   "language": "python",
   "name": "python3"
  },
  "language_info": {
   "codemirror_mode": {
    "name": "ipython",
    "version": 3
   },
   "file_extension": ".py",
   "mimetype": "text/x-python",
   "name": "python",
   "nbconvert_exporter": "python",
   "pygments_lexer": "ipython3",
   "version": "3.7.12"
  }
 },
 "nbformat": 4,
 "nbformat_minor": 5
}
